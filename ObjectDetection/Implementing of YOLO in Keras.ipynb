{
 "cells": [
  {
   "cell_type": "markdown",
   "metadata": {},
   "source": [
    "# Implement of YOLO in Keras\n"
   ]
  },
  {
   "cell_type": "markdown",
   "metadata": {},
   "source": [
    "## Introduction\n",
    "\n"
   ]
  },
  {
   "cell_type": "code",
   "execution_count": null,
   "metadata": {},
   "outputs": [],
   "source": []
  },
  {
   "cell_type": "markdown",
   "metadata": {},
   "source": [
    "### General Introduction\n",
    "\n"
   ]
  },
  {
   "cell_type": "markdown",
   "metadata": {},
   "source": [
    "### Algorithm section"
   ]
  },
  {
   "cell_type": "markdown",
   "metadata": {},
   "source": [
    "Outline of Steps\n",
    "\n",
    "+ Initialization\n",
    "    + Download COCO detection data from http://cocodataset.org/#download\n",
    "        + http://images.cocodataset.org/zips/train2014.zip <= train images\n",
    "        + http://images.cocodataset.org/zips/val2014.zip <= validation images\n",
    "        + http://images.cocodataset.org/annotations/annotations_trainval2014.zip <= train and validation annotations\n",
    "    + Run this script to convert annotations in COCO format to VOC format\n",
    "        + https://gist.github.com/chicham/6ed3842d0d2014987186#file-coco2pascal-py\n",
    "    + Download pre-trained weights from https://pjreddie.com/darknet/yolo/\n",
    "        + https://pjreddie.com/media/files/yolo.weights\n",
    "    + Specify the directory of train annotations (train_annot_folder) and train images (train_image_folder)\n",
    "    + Specify the directory of validation annotations (valid_annot_folder) and validation images (valid_image_folder)\n",
    "    + Specity the path of pre-trained weights by setting variable *wt_path*\n",
    "+ Construct equivalent network in Keras\n",
    "    + Network arch from https://github.com/pjreddie/darknet/blob/master/cfg/yolo-voc.cfg\n",
    "+ Load the pretrained weights\n",
    "+ Perform training \n",
    "+ Perform detection on an image with newly trained weights\n",
    "+ Perform detection on an video with newly trained weights"
   ]
  },
  {
   "cell_type": "code",
   "execution_count": null,
   "metadata": {},
   "outputs": [],
   "source": []
  },
  {
   "cell_type": "code",
   "execution_count": null,
   "metadata": {},
   "outputs": [],
   "source": []
  },
  {
   "cell_type": "markdown",
   "metadata": {},
   "source": [
    "Reference: http://github.com/experiencor/keras-yolo2"
   ]
  }
 ],
 "metadata": {
  "kernelspec": {
   "display_name": "Python [conda env:tensorflow]",
   "language": "python",
   "name": "conda-env-tensorflow-py"
  },
  "language_info": {
   "codemirror_mode": {
    "name": "ipython",
    "version": 2
   },
   "file_extension": ".py",
   "mimetype": "text/x-python",
   "name": "python",
   "nbconvert_exporter": "python",
   "pygments_lexer": "ipython2",
   "version": "2.7.14"
  }
 },
 "nbformat": 4,
 "nbformat_minor": 2
}
