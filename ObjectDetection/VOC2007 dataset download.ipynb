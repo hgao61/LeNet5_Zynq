{
 "cells": [
  {
   "cell_type": "markdown",
   "metadata": {},
   "source": [
    "## Pascal VOC 2012 data download"
   ]
  },
  {
   "cell_type": "markdown",
   "metadata": {},
   "source": [
    "The VOC2012's subfolder under VOCdevkit are:\n",
    "Annotations\n",
    "ImageSets\n",
    "JPEGImages\n",
    "SegmentationClass\n",
    "SegmentationObject\n",
    "\n",
    "1. JPEGImages\n",
    "The JPEGImages contains all the image information provided by the PASCAL VOC, include training images and test images.\n",
    "\n",
    "These images are named in the format \"Year_Number.jpg\".\n",
    "The pixel size of the image varies, but the size of the horizontal image is about 500*375, and the size of the vertical image is about 375*500, which is basically no deviation of more than 100. (In the following training, the first step is to resize these images to 300*300 or 500*500. All original images for training cannot be too far from this standard.)\n",
    "These images are the image data used for training and test verification.\n",
    "\n",
    "2. Annotations\n",
    "\n",
    "The Annotations folder contains the xml format tag files, and each xml file corresponds to a picture in the JPEGImages folder.\n",
    "\n",
    "3. ImageSets\n",
    "\n",
    "ImageSets stores image data corresponding to each type of challenge.\n",
    "There are four folders under ImageSets:\n",
    "Action, Layout, Main, Segmentation\n",
    "\n",
    "Among them, Action stores human actions (such as running, jumping, etc., which is also part of the VOC challenge)\n",
    "Layout stores data with body parts (human head, hand, feet, etc., which is also part of the VOC challenge)\n",
    "Main stores image object, and is divided into 20 categories.\n",
    "Segmentation is data that can be used for segmentation.\n",
    "\n",
    "Main folder contains 20 categories' ***_train.txt, ***_val.txt and ***_trainval.txt\n",
    "\n",
    "![title](img/voc_main_folder_files.jpg)\n",
    "\n",
    "\n",
    "The first one represents the name of the image, the latter 1 represents a positive sample, and -1 represents a negative sample.\n",
    "The _train stores the data used for training. There are 5,718 train data for each class.\n",
    "_val stores the data used for the verification result. There are 5,821 val data for each class.\n",
    "_trainval merges the top two, with 11540 for each class.\n",
    "It is necessary to ensure that there is no intersection between train and val, that is, the training data and the verification data cannot be repeated. When the training data is selected, it should also be randomly generated.\n",
    "\n",
    "4. SegmentationClass和SegmentationObject\n",
    "The two images are saved under the two folders, which are not used in object recognition.\n"
   ]
  },
  {
   "cell_type": "markdown",
   "metadata": {},
   "source": [
    "## Pascal VOC 2007 data download\n",
    "\n"
   ]
  },
  {
   "cell_type": "code",
   "execution_count": null,
   "metadata": {},
   "outputs": [],
   "source": [
    "wget http://host.robots.ox.ac.uk/pascal/VOC/voc2007/VOCtrainval_06-Nov-2007.tar\n",
    "wget http://host.robots.ox.ac.uk/pascal/VOC/voc2007/VOCtest_06-Nov-2007.tar\n",
    "wget http://host.robots.ox.ac.uk/pascal/VOC/voc2007/VOCdevkit_08-Jun-2007.tar"
   ]
  },
  {
   "cell_type": "code",
   "execution_count": null,
   "metadata": {},
   "outputs": [],
   "source": [
    "# Run the following command to untar \n",
    "#data into a folder named VOCdevkit\n",
    "tar xvf VOCtrainval_06-Nov-2007.tar\n",
    "tar xvf VOCtest_06-Nov-2007.tar\n",
    "tar xvf VOCdevkit_08-Jun-2007.tar"
   ]
  },
  {
   "cell_type": "markdown",
   "metadata": {},
   "source": [
    "### Data Preview\n",
    "\n",
    "1、VOC2007/Annotations\n",
    "\n",
    "Category name and rectangular position of the object"
   ]
  },
  {
   "cell_type": "code",
   "execution_count": null,
   "metadata": {},
   "outputs": [],
   "source": [
    "<annotation>\n",
    "    <folder>VOC2007</folder> # folder name\n",
    "    <filename>000032.jpg</filename> # picture name\n",
    "    <source>\n",
    "        <database>The VOC2007 Database</database> # database name\n",
    "        <annotation>PASCAL VOC2007</annotation>\n",
    "        <image>flickr</image>\n",
    "        <flickrid>311023000</flickrid>\n",
    "    </source>\n",
    "    <owner>\n",
    "        <flickrid>-hi-no-to-ri-mo-rt-al-</flickrid>\n",
    "        <name>?</name>\n",
    "    </owner>\n",
    "    <size>\n",
    "        <width>500</width> # width of the picture\n",
    "        <height>281</height> # height of the picture\n",
    "        <depth>3</depth> # channels of the picture\n",
    "    </size>\n",
    "    <segmented>1</segmented> \n",
    "    <object>\n",
    "        <name>aeroplane</name> # 对象名\n",
    "        <pose>Frontal</pose>\n",
    "        <truncated>0</truncated>\n",
    "        <difficult>0</difficult>\n",
    "        <bndbox>\n",
    "            <xmin>104</xmin> # 对象框左上角 x\n",
    "            <ymin>78</ymin> # 对象框左上角 y\n",
    "            <xmax>375</xmax> # 对象框右下角 x\n",
    "            <ymax>183</ymax> # 对象框右下角 y\n",
    "        </bndbox>\n",
    "    </object>\n",
    "    <object>\n",
    "        <name>aeroplane</name> # 对象名\n",
    "        <pose>Left</pose>\n",
    "        <truncated>0</truncated>\n",
    "        <difficult>0</difficult>\n",
    "        <bndbox>\n",
    "            <xmin>133</xmin>\n",
    "            <ymin>88</ymin>\n",
    "            <xmax>197</xmax>\n",
    "            <ymax>123</ymax>\n",
    "        </bndbox>\n",
    "    </object>\n",
    "    <object>\n",
    "        <name>person</name>\n",
    "        <pose>Rear</pose>\n",
    "        <truncated>0</truncated>\n",
    "        <difficult>0</difficult>\n",
    "        <bndbox>\n",
    "            <xmin>195</xmin>\n",
    "            <ymin>180</ymin>\n",
    "            <xmax>213</xmax>\n",
    "            <ymax>229</ymax>\n",
    "        </bndbox>\n",
    "    </object>\n",
    "    <object>\n",
    "        <name>person</name>\n",
    "        <pose>Rear</pose>\n",
    "        <truncated>0</truncated>\n",
    "        <difficult>0</difficult>\n",
    "        <bndbox>\n",
    "            <xmin>26</xmin>\n",
    "            <ymin>189</ymin>\n",
    "            <xmax>44</xmax>\n",
    "            <ymax>238</ymax>\n",
    "        </bndbox>\n",
    "    </object>\n",
    "</annotation>"
   ]
  },
  {
   "cell_type": "markdown",
   "metadata": {},
   "source": [
    "2、VOC2007/JPEGImages\n",
    "![title](img/jpegimages000480.jpg)"
   ]
  },
  {
   "cell_type": "markdown",
   "metadata": {},
   "source": [
    "3、VOC2007/SegmentationClass\n",
    "![title](img/segmentationclass000480.png)"
   ]
  },
  {
   "cell_type": "markdown",
   "metadata": {},
   "source": [
    "4、VOC2007/SegmentationObject\n",
    "![title](img/segmentationobject000480.png)"
   ]
  },
  {
   "cell_type": "markdown",
   "metadata": {},
   "source": []
  }
 ],
 "metadata": {
  "kernelspec": {
   "display_name": "Python [conda env:tensorflow]",
   "language": "python",
   "name": "conda-env-tensorflow-py"
  },
  "language_info": {
   "codemirror_mode": {
    "name": "ipython",
    "version": 2
   },
   "file_extension": ".py",
   "mimetype": "text/x-python",
   "name": "python",
   "nbconvert_exporter": "python",
   "pygments_lexer": "ipython2",
   "version": "2.7.14"
  }
 },
 "nbformat": 4,
 "nbformat_minor": 2
}
